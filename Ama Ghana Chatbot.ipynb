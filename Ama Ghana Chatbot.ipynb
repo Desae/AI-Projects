{
 "cells": [
  {
   "cell_type": "markdown",
   "metadata": {},
   "source": [
    "# Ama Ghana Chatbot\n",
    "\n",
    "This chatbot gives information about my country, Ghana in West Africa. I use the Term Frequency-Inverse Document Frequency(TF-IDF) and Cosine Similarity to find similarity between the users' questions and the different portions of the text data available to the chatbot. The text I use here is from the [Wikipedia Page on Ghana](https://en.wikipedia.org/wiki/Ghana)"
   ]
  },
  {
   "cell_type": "code",
   "execution_count": 1,
   "metadata": {
    "collapsed": true
   },
   "outputs": [],
   "source": [
    "import random\n",
    "import nltk\n",
    "import numpy as np\n",
    "import string"
   ]
  },
  {
   "cell_type": "markdown",
   "metadata": {},
   "source": [
    "### Reading in the data"
   ]
  },
  {
   "cell_type": "code",
   "execution_count": 9,
   "metadata": {
    "collapsed": true
   },
   "outputs": [],
   "source": [
    "f = open('./data/amaghana.txt','r',errors= 'ignore')\n",
    "raw = f.read()\n",
    "raw = raw.lower()\n",
    "\n",
    "sent_token = nltk.sent_tokenize(raw)\n",
    "word_token = nltk.word_tokenize(raw)"
   ]
  },
  {
   "cell_type": "markdown",
   "metadata": {},
   "source": [
    "### Prepocessing the raw text"
   ]
  },
  {
   "cell_type": "code",
   "execution_count": 10,
   "metadata": {
    "collapsed": true
   },
   "outputs": [],
   "source": [
    "lemmer = nltk.stem.WordNetLemmatizer()\n",
    "\n",
    "def lemTokens(tokens):\n",
    "    return [lemmer.lemmatize(token) for token in tokens]\n",
    "\n",
    "remove_punct_dict = dict((ord(punct), None) for punct in string.punctuation)\n",
    "\n",
    "def lemNormalize(text):\n",
    "    return lemTokens(nltk.word_tokenize(text.lower().translate(remove_punct_dict)))"
   ]
  },
  {
   "cell_type": "markdown",
   "metadata": {},
   "source": [
    "### Greetings"
   ]
  },
  {
   "cell_type": "code",
   "execution_count": 11,
   "metadata": {
    "collapsed": true
   },
   "outputs": [],
   "source": [
    "GREETINGS_KEYWORDS = (\"hello\",\"hi\",\"what's up\",\"hey\",\"sup\")\n",
    "GREETINGS_RESPONSES = [\"hi there\",\"what's going on?\", \"*nods*\",\"hey\"]\n",
    "\n",
    "def greeting(sentence):\n",
    "    for word in sentence.split():\n",
    "        if sentence.lower() in GREETINGS_KEYWORDS:\n",
    "            return random.choice(GREETINGS_RESPONSES)"
   ]
  },
  {
   "cell_type": "markdown",
   "metadata": {},
   "source": [
    "### Generating Responses"
   ]
  },
  {
   "cell_type": "code",
   "execution_count": 5,
   "metadata": {
    "collapsed": true
   },
   "outputs": [],
   "source": [
    "# Tfidf Vectorizer\n",
    "from sklearn.feature_extraction.text import TfidfVectorizer\n",
    "\n",
    "# Cosine similarity\n",
    "from sklearn.metrics.pairwise import cosine_similarity"
   ]
  },
  {
   "cell_type": "code",
   "execution_count": 12,
   "metadata": {
    "collapsed": true
   },
   "outputs": [],
   "source": [
    "# implementation\n",
    "def response(user_response):\n",
    "    robo_response = ''\n",
    "    sent_token.append(user_response)\n",
    "    \n",
    "    TfidfVec = TfidfVectorizer(tokenizer=lemNormalize, stop_words='english')\n",
    "    tfidf = TfidfVec.fit_transform(sent_token)\n",
    "    \n",
    "    vals = cosine_similarity(tfidf[-1], tfidf)\n",
    "    idx = vals.argsort()[0][-2]\n",
    "    flat = vals.flatten()\n",
    "    flat.sort()\n",
    "    req_tfidf = flat[-2]\n",
    "    \n",
    "    if req_tfidf == 0:\n",
    "        robo_response = robo_response + \"Sorry, I do not understand you\"\n",
    "        return robo_response\n",
    "    else:\n",
    "        robo_response = robo_response + sent_token[idx]\n",
    "        return robo_response"
   ]
  },
  {
   "cell_type": "markdown",
   "metadata": {},
   "source": [
    "### Starting and ending the conversation"
   ]
  },
  {
   "cell_type": "code",
   "execution_count": 13,
   "metadata": {},
   "outputs": [
    {
     "name": "stdout",
     "output_type": "stream",
     "text": [
      "Ama Ghana: My name is Ama Ghana, I will answer your questions about Ghana. If you want to exit, type 'bye'\n",
      "\n",
      "User: where is ghana located\n",
      "\n",
      "Ama Ghana:ghana, officially the republic of ghana, is a country located along the gulf of guinea and atlantic ocean, in the subregion of west africa. \n",
      "\n",
      "\n",
      "User: what is the land mass of ghana\n",
      "\n",
      "Ama Ghana:spanning a land mass of 238,535 km2 (92,099 sq mi), ghana is bordered by the ivory coast in the west, burkina faso in the north, togo in the east and the gulf of guinea and atlantic ocean in the south. \n",
      "\n",
      "\n",
      "User: what does ghana mean\n",
      "\n",
      "Ama Ghana:ghana means \"warrior king\" in the soninke language. \n",
      "\n",
      "\n",
      "User: what is ghana's population\n",
      "\n",
      "Ama Ghana:it became independent of the united kingdom on 6 march 1957.\n",
      "\n",
      "ghana's population of approximately 30 million spans a variety of ethnic, linguistic and religious groups. \n",
      "\n",
      "\n",
      "User: what is the geography of ghana\n",
      "\n",
      "Ama Ghana:its diverse geography and ecology ranges from coastal savannahs to tropical rain forests. \n",
      "\n",
      "\n",
      "User: what is the political system of ghana\n",
      "\n",
      "Ama Ghana:ghana's growing economic prosperity and democratic political system have made it a regional power in west africa. \n",
      "\n",
      "\n",
      "User: is ghana a democratic country\n",
      "\n",
      "Ama Ghana:ghana, officially the republic of ghana, is a country located along the gulf of guinea and atlantic ocean, in the subregion of west africa. \n",
      "\n",
      "\n",
      "User: which countries are ghana bordered by\n",
      "\n",
      "Ama Ghana:ghana, officially the republic of ghana, is a country located along the gulf of guinea and atlantic ocean, in the subregion of west africa. \n",
      "\n",
      "\n",
      "User: hello\n",
      "\n",
      "Ama Ghana: *nods* \n",
      "\n",
      "\n",
      "User: hi\n",
      "\n",
      "Ama Ghana: what's going on? \n",
      "\n",
      "\n",
      "User: bye\n",
      "\n",
      "Ama Ghana: Bye bye, take care..\n"
     ]
    }
   ],
   "source": [
    "flag = True\n",
    "print(\"Ama Ghana: My name is Ama Ghana, I will answer your questions about Ghana. If you want to exit, type 'bye'\")\n",
    "\n",
    "while flag==True:\n",
    "    user_response = input(\"\\nUser: \")\n",
    "    user_response = user_response.lower()\n",
    "    \n",
    "    if user_response != 'bye':\n",
    "        if (user_response == 'thanks' or user_response == 'thank you'):\n",
    "            flag = False\n",
    "            print(\"\\nAma Ghana: You are welcome\\n\")\n",
    "        else:\n",
    "            if greeting(user_response) != None:\n",
    "                print(\"\\nAma Ghana: \" + greeting(user_response),\"\\n\")\n",
    "            else:\n",
    "                print(\"\\nAma Ghana:\", end=\"\")\n",
    "                print(response(user_response),\"\\n\")\n",
    "                sent_token.remove(user_response)\n",
    "            \n",
    "    else:\n",
    "        flag = False\n",
    "        print(\"\\nAma Ghana: Bye bye, take care..\")"
   ]
  },
  {
   "cell_type": "code",
   "execution_count": null,
   "metadata": {
    "collapsed": true
   },
   "outputs": [],
   "source": []
  }
 ],
 "metadata": {
  "kernelspec": {
   "display_name": "Python 3",
   "language": "python",
   "name": "python3"
  },
  "language_info": {
   "codemirror_mode": {
    "name": "ipython",
    "version": 3
   },
   "file_extension": ".py",
   "mimetype": "text/x-python",
   "name": "python",
   "nbconvert_exporter": "python",
   "pygments_lexer": "ipython3",
   "version": "3.6.3"
  }
 },
 "nbformat": 4,
 "nbformat_minor": 2
}
